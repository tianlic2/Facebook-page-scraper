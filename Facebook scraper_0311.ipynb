{
 "cells": [
  {
   "cell_type": "markdown",
   "id": "c78c5306",
   "metadata": {},
   "source": [
    "First, we need to install the 'Facebook-page-scraper' package"
   ]
  },
  {
   "cell_type": "code",
   "execution_count": 9,
   "id": "9f59b341",
   "metadata": {
    "scrolled": true
   },
   "outputs": [
    {
     "name": "stdout",
     "output_type": "stream",
     "text": [
      "Requirement already satisfied: facebook-page-scraper in /opt/anaconda3/lib/python3.7/site-packages (0.1.8)\n",
      "Requirement already satisfied: webdriver-manager==3.2.2 in /opt/anaconda3/lib/python3.7/site-packages (from facebook-page-scraper) (3.2.2)\n",
      "Requirement already satisfied: selenium==3.141.0 in /opt/anaconda3/lib/python3.7/site-packages (from facebook-page-scraper) (3.141.0)\n",
      "Requirement already satisfied: urllib3 in /opt/anaconda3/lib/python3.7/site-packages (from selenium==3.141.0->facebook-page-scraper) (1.26.6)\n",
      "Requirement already satisfied: crayons in /opt/anaconda3/lib/python3.7/site-packages (from webdriver-manager==3.2.2->facebook-page-scraper) (0.4.0)\n",
      "Requirement already satisfied: configparser in /opt/anaconda3/lib/python3.7/site-packages (from webdriver-manager==3.2.2->facebook-page-scraper) (5.2.0)\n",
      "Requirement already satisfied: requests in /opt/anaconda3/lib/python3.7/site-packages (from webdriver-manager==3.2.2->facebook-page-scraper) (2.26.0)\n",
      "Requirement already satisfied: colorama in /opt/anaconda3/lib/python3.7/site-packages (from crayons->webdriver-manager==3.2.2->facebook-page-scraper) (0.4.4)\n",
      "Requirement already satisfied: idna<4,>=2.5 in /opt/anaconda3/lib/python3.7/site-packages (from requests->webdriver-manager==3.2.2->facebook-page-scraper) (3.2)\n",
      "Requirement already satisfied: certifi>=2017.4.17 in /opt/anaconda3/lib/python3.7/site-packages (from requests->webdriver-manager==3.2.2->facebook-page-scraper) (2021.5.30)\n",
      "Requirement already satisfied: charset-normalizer~=2.0.0 in /opt/anaconda3/lib/python3.7/site-packages (from requests->webdriver-manager==3.2.2->facebook-page-scraper) (2.0.4)\n",
      "Note: you may need to restart the kernel to use updated packages.\n"
     ]
    }
   ],
   "source": [
    "pip install facebook-page-scraper"
   ]
  },
  {
   "cell_type": "code",
   "execution_count": 1,
   "id": "db7f165c",
   "metadata": {
    "scrolled": true
   },
   "outputs": [
    {
     "name": "stderr",
     "output_type": "stream",
     "text": [
      "[WDM] - Current google-chrome version is 99.0.4844\n",
      "[WDM] - Get LATEST driver version for 99.0.4844\n",
      "[WDM] - Driver [/Users/chen/.wdm/drivers/chromedriver/mac64/99.0.4844.51/chromedriver] found in cache\n"
     ]
    },
    {
     "name": "stdout",
     "output_type": "stream",
     "text": [
      " \n"
     ]
    }
   ],
   "source": [
    "from facebook_page_scraper import Facebook_scraper\n",
    "import json\n",
    "\n",
    "page_name = \"cnn\" # The name of the public page that we want to extract. For example, 'cnn', 'apple', etc.\n",
    "posts_count = 1000 # The number of posts that we want to extract at one time, 1000 is possible\n",
    "browser = \"chrome\" # Which browser to use, either chrome or firefox.\n",
    "meta_ai = Facebook_scraper(page_name,posts_count,browser) # We don't need to change the following 3 lines of codes\n",
    "json_data = meta_ai.scrap_to_json()\n",
    "a = json.loads(json_data)"
   ]
  },
  {
   "cell_type": "code",
   "execution_count": 2,
   "id": "f248cd5c",
   "metadata": {},
   "outputs": [],
   "source": [
    "#First create some list to store information\n",
    "name = []\n",
    "shares = []\n",
    "likes = []\n",
    "loves = []\n",
    "wow = []\n",
    "cares = []\n",
    "sad = []\n",
    "angry = []\n",
    "haha = []\n",
    "reaction_count = []\n",
    "comments = []\n",
    "content = []\n",
    "posted_on = []\n",
    "video = []\n",
    "image = []\n",
    "post_url = []\n",
    "for i in a.keys():\n",
    "    content.append(a[i]['content'])\n",
    "    video.append(a[i]['video'])\n",
    "    image.append(a[i]['image'])\n",
    "    post_url.append(a[i]['post_url'])\n",
    "    posted_on.append(a[i]['posted_on'])\n",
    "    shares.append(a[i]['shares'])\n",
    "    likes.append(a[i]['reactions']['likes'])\n",
    "    loves.append(a[i]['reactions']['loves'])\n",
    "    wow.append(a[i]['reactions']['wow'])\n",
    "    cares.append(a[i]['reactions']['cares'])\n",
    "    sad.append(a[i]['reactions']['sad'])\n",
    "    angry.append(a[i]['reactions']['angry'])\n",
    "    haha.append(a[i]['reactions']['haha'])\n",
    "    reaction_count.append(a[i]['reaction_count'])\n",
    "    comments.append(a[i]['comments'])"
   ]
  },
  {
   "cell_type": "code",
   "execution_count": 4,
   "id": "5c75c658",
   "metadata": {},
   "outputs": [],
   "source": [
    "import pandas as pd\n",
    "data_0310 = pd.DataFrame()\n",
    "data_0310['content'] = [i for i in content]\n",
    "data_0310['video'] = [i for i in video]\n",
    "data_0310['image'] = [i for i in image]\n",
    "data_0310['posted_on'] = [i for i in posted_on]\n",
    "data_0310['post_url'] = [i for i in post_url]\n",
    "data_0310['comments'] = [i for i in comments]\n",
    "data_0310['shares'] = [i for i in shares]\n",
    "data_0310['likes'] = [i for i in likes]\n",
    "data_0310['loves'] = [i for i in loves]\n",
    "data_0310['wow'] = [i for i in wow]\n",
    "data_0310['cares'] = [i for i in cares]\n",
    "data_0310['sad'] = [i for i in sad]\n",
    "data_0310['angry'] = [i for i in angry]\n",
    "data_0310['haha'] = [i for i in haha]\n",
    "data_0310['reaction_count'] = [i for i in reaction_count]"
   ]
  },
  {
   "cell_type": "markdown",
   "id": "31f95a1e",
   "metadata": {},
   "source": [
    "Then we can create a spreadsheet to store the information we extract."
   ]
  },
  {
   "cell_type": "code",
   "execution_count": 5,
   "id": "90b1bb92",
   "metadata": {},
   "outputs": [],
   "source": [
    "data_0310.to_csv('the name of the file.csv')"
   ]
  }
 ],
 "metadata": {
  "kernelspec": {
   "display_name": "Python 3 (ipykernel)",
   "language": "python",
   "name": "python3"
  },
  "language_info": {
   "codemirror_mode": {
    "name": "ipython",
    "version": 3
   },
   "file_extension": ".py",
   "mimetype": "text/x-python",
   "name": "python",
   "nbconvert_exporter": "python",
   "pygments_lexer": "ipython3",
   "version": "3.7.4"
  }
 },
 "nbformat": 4,
 "nbformat_minor": 5
}
